{
  "nbformat": 4,
  "nbformat_minor": 0,
  "metadata": {
    "colab": {
      "name": "Cópia de Calculadora de Aluguel - Coleta de Dados Daniel.ipynb",
      "provenance": [],
      "collapsed_sections": [],
      "authorship_tag": "ABX9TyM6YP4ZRiJfZRIEj8Rl3r8o",
      "include_colab_link": true
    },
    "kernelspec": {
      "name": "python3",
      "display_name": "Python 3"
    }
  },
  "cells": [
    {
      "cell_type": "markdown",
      "metadata": {
        "id": "view-in-github",
        "colab_type": "text"
      },
      "source": [
        "<a href=\"https://colab.research.google.com/github/DanielCoser/Webscrapping-ML/blob/main/C%C3%B3pia_de_Calculadora_de_Aluguel_Coleta_de_Dados_Daniel.ipynb\" target=\"_parent\"><img src=\"https://colab.research.google.com/assets/colab-badge.svg\" alt=\"Open In Colab\"/></a>"
      ]
    },
    {
      "cell_type": "code",
      "metadata": {
        "id": "r2X8CXEfAhSM"
      },
      "source": [
        "import pandas as pd\r\n",
        "import requests\r\n",
        "import numpy as np\r\n",
        "from bs4 import BeautifulSoup\r\n",
        "from time import sleep\r\n",
        "\r\n",
        "zonas = ['sul', 'oeste', 'leste', 'norte']\r\n",
        "paginas = ['', '_Desde_49', '_Desde_97', '_Desde_145', '_Desde_193']\r\n",
        "url_ml = 'https://imoveis.mercadolivre.com.br/apartamentos/aluguel/sao-paulo/'\r\n",
        "\r\n",
        "def coletando_dados(url, zona):\r\n",
        "\r\n",
        "  resposta = requests.get(url).content\r\n",
        "  sopa = BeautifulSoup(resposta)\r\n",
        "\r\n",
        "  result_set_precos = sopa.find_all('span', {'class': 'price-tag-fraction'})\r\n",
        "  result_set_area_quartos = sopa.find_all('ul', class_='ui-search-card-attributes ui-search-item__group__element')\r\n",
        "  result_set_enderecos = sopa.find_all('span', class_='ui-search-item__group__element ui-search-item__location')\r\n",
        "\r\n",
        "  lista_precos = []\r\n",
        "  lista_area_quartos = []\r\n",
        "  lista_enderecos = []\r\n",
        "  lista_zonas = []\r\n",
        "\r\n",
        "  for preco, area_quarto, endereco in zip(result_set_precos, result_set_area_quartos, result_set_enderecos):\r\n",
        "    lista_precos.append(preco.text)\r\n",
        "    lista_area_quartos.append(area_quarto.text)\r\n",
        "    lista_enderecos.append(endereco.text)\r\n",
        "    lista_zonas.append(zona)\r\n",
        "    \r\n",
        "  dados = {'zonas': lista_zonas,\r\n",
        "           'areas_quartos': lista_area_quartos,\r\n",
        "           'enderecos': lista_enderecos,\r\n",
        "           'precos': lista_precos}\r\n",
        "\r\n",
        "  df = pd.DataFrame(dados)\r\n",
        "  return df"
      ],
      "execution_count": null,
      "outputs": []
    },
    {
      "cell_type": "code",
      "metadata": {
        "colab": {
          "base_uri": "https://localhost:8080/"
        },
        "id": "URkWpIL_BViO",
        "outputId": "1d888a50-2c1a-4cb4-cbf1-708845b688af"
      },
      "source": [
        "lista_dados = []\r\n",
        "\r\n",
        "for zona in zonas:\r\n",
        "  for pagina in paginas:\r\n",
        "    url = f'https://imoveis.mercadolivre.com.br/apartamentos/aluguel/sao-paulo/sao-paulo-zona-{zona}/{pagina}'\r\n",
        "    print('Coletando dados de', url)\r\n",
        "    df = coletando_dados(url, zona)\r\n",
        "    lista_dados.append(df)\r\n",
        "    sleep(2) # lembrar de usar sleep para não sobrecarregar o site de acessos\r\n",
        "print('Dados coletados!')"
      ],
      "execution_count": null,
      "outputs": [
        {
          "output_type": "stream",
          "text": [
            "Coletando dados de https://imoveis.mercadolivre.com.br/apartamentos/aluguel/sao-paulo/sao-paulo-zona-sul/\n",
            "Coletando dados de https://imoveis.mercadolivre.com.br/apartamentos/aluguel/sao-paulo/sao-paulo-zona-sul/_Desde_49\n",
            "Coletando dados de https://imoveis.mercadolivre.com.br/apartamentos/aluguel/sao-paulo/sao-paulo-zona-sul/_Desde_97\n",
            "Coletando dados de https://imoveis.mercadolivre.com.br/apartamentos/aluguel/sao-paulo/sao-paulo-zona-sul/_Desde_145\n",
            "Coletando dados de https://imoveis.mercadolivre.com.br/apartamentos/aluguel/sao-paulo/sao-paulo-zona-sul/_Desde_193\n",
            "Coletando dados de https://imoveis.mercadolivre.com.br/apartamentos/aluguel/sao-paulo/sao-paulo-zona-oeste/\n",
            "Coletando dados de https://imoveis.mercadolivre.com.br/apartamentos/aluguel/sao-paulo/sao-paulo-zona-oeste/_Desde_49\n",
            "Coletando dados de https://imoveis.mercadolivre.com.br/apartamentos/aluguel/sao-paulo/sao-paulo-zona-oeste/_Desde_97\n",
            "Coletando dados de https://imoveis.mercadolivre.com.br/apartamentos/aluguel/sao-paulo/sao-paulo-zona-oeste/_Desde_145\n",
            "Coletando dados de https://imoveis.mercadolivre.com.br/apartamentos/aluguel/sao-paulo/sao-paulo-zona-oeste/_Desde_193\n",
            "Coletando dados de https://imoveis.mercadolivre.com.br/apartamentos/aluguel/sao-paulo/sao-paulo-zona-leste/\n",
            "Coletando dados de https://imoveis.mercadolivre.com.br/apartamentos/aluguel/sao-paulo/sao-paulo-zona-leste/_Desde_49\n",
            "Coletando dados de https://imoveis.mercadolivre.com.br/apartamentos/aluguel/sao-paulo/sao-paulo-zona-leste/_Desde_97\n",
            "Coletando dados de https://imoveis.mercadolivre.com.br/apartamentos/aluguel/sao-paulo/sao-paulo-zona-leste/_Desde_145\n",
            "Coletando dados de https://imoveis.mercadolivre.com.br/apartamentos/aluguel/sao-paulo/sao-paulo-zona-leste/_Desde_193\n",
            "Coletando dados de https://imoveis.mercadolivre.com.br/apartamentos/aluguel/sao-paulo/sao-paulo-zona-norte/\n",
            "Coletando dados de https://imoveis.mercadolivre.com.br/apartamentos/aluguel/sao-paulo/sao-paulo-zona-norte/_Desde_49\n",
            "Coletando dados de https://imoveis.mercadolivre.com.br/apartamentos/aluguel/sao-paulo/sao-paulo-zona-norte/_Desde_97\n",
            "Coletando dados de https://imoveis.mercadolivre.com.br/apartamentos/aluguel/sao-paulo/sao-paulo-zona-norte/_Desde_145\n",
            "Coletando dados de https://imoveis.mercadolivre.com.br/apartamentos/aluguel/sao-paulo/sao-paulo-zona-norte/_Desde_193\n",
            "Dados coletados!\n"
          ],
          "name": "stdout"
        }
      ]
    },
    {
      "cell_type": "code",
      "metadata": {
        "colab": {
          "base_uri": "https://localhost:8080/",
          "height": 402
        },
        "id": "9aDEQ7RgJOhe",
        "outputId": "d271c867-2880-4ea2-cd27-77576530d2d4"
      },
      "source": [
        "df_dados = pd.concat(lista_dados)\r\n",
        "df_dados"
      ],
      "execution_count": null,
      "outputs": [
        {
          "output_type": "execute_result",
          "data": {
            "text/html": [
              "<div>\n",
              "<style scoped>\n",
              "    .dataframe tbody tr th:only-of-type {\n",
              "        vertical-align: middle;\n",
              "    }\n",
              "\n",
              "    .dataframe tbody tr th {\n",
              "        vertical-align: top;\n",
              "    }\n",
              "\n",
              "    .dataframe thead th {\n",
              "        text-align: right;\n",
              "    }\n",
              "</style>\n",
              "<table border=\"1\" class=\"dataframe\">\n",
              "  <thead>\n",
              "    <tr style=\"text-align: right;\">\n",
              "      <th></th>\n",
              "      <th>zonas</th>\n",
              "      <th>areas_quartos</th>\n",
              "      <th>enderecos</th>\n",
              "      <th>precos</th>\n",
              "    </tr>\n",
              "  </thead>\n",
              "  <tbody>\n",
              "    <tr>\n",
              "      <th>0</th>\n",
              "      <td>sul</td>\n",
              "      <td>25 m² construídos1 quarto</td>\n",
              "      <td>Rua João José Martins, Cambuci, São Paulo Zona...</td>\n",
              "      <td>750</td>\n",
              "    </tr>\n",
              "    <tr>\n",
              "      <th>1</th>\n",
              "      <td>sul</td>\n",
              "      <td>50 m² construídos1 quarto</td>\n",
              "      <td>Rua Durval Silva, Cidade Domitila, São Paulo Z...</td>\n",
              "      <td>750</td>\n",
              "    </tr>\n",
              "    <tr>\n",
              "      <th>2</th>\n",
              "      <td>sul</td>\n",
              "      <td>62 m² construídos2 quartos</td>\n",
              "      <td>Rua Professor Arnaldo João Semeraro, Jardim Sa...</td>\n",
              "      <td>1.200</td>\n",
              "    </tr>\n",
              "    <tr>\n",
              "      <th>3</th>\n",
              "      <td>sul</td>\n",
              "      <td>118 m² construídos2 quartos</td>\n",
              "      <td>Rua José De Oliveira Coelho, Vila Andrade, São...</td>\n",
              "      <td>1.500</td>\n",
              "    </tr>\n",
              "    <tr>\n",
              "      <th>4</th>\n",
              "      <td>sul</td>\n",
              "      <td>68 m² construídos2 quartos</td>\n",
              "      <td>Rua Doutor Nicolau Alberto Defina, Jardim Da S...</td>\n",
              "      <td>1.224</td>\n",
              "    </tr>\n",
              "    <tr>\n",
              "      <th>...</th>\n",
              "      <td>...</td>\n",
              "      <td>...</td>\n",
              "      <td>...</td>\n",
              "      <td>...</td>\n",
              "    </tr>\n",
              "    <tr>\n",
              "      <th>43</th>\n",
              "      <td>norte</td>\n",
              "      <td>50 m² construídos1 quarto</td>\n",
              "      <td>Avenida Sanatório, Jardim Modelo, São Paulo Zo...</td>\n",
              "      <td>1.150</td>\n",
              "    </tr>\n",
              "    <tr>\n",
              "      <th>44</th>\n",
              "      <td>norte</td>\n",
              "      <td>52 m² construídos2 quartos</td>\n",
              "      <td>Rua Santo Ubaldo, Vila Palmeiras, São Paulo Zo...</td>\n",
              "      <td>2.200</td>\n",
              "    </tr>\n",
              "    <tr>\n",
              "      <th>45</th>\n",
              "      <td>norte</td>\n",
              "      <td>50 m² construídos2 quartos</td>\n",
              "      <td>Rua Manguari, Jardim Andaraí, São Paulo Zona N...</td>\n",
              "      <td>1.360</td>\n",
              "    </tr>\n",
              "    <tr>\n",
              "      <th>46</th>\n",
              "      <td>norte</td>\n",
              "      <td>59 m² construídos3 quartos</td>\n",
              "      <td>Rua Itaici, Santa Teresinha, São Paulo Zona No...</td>\n",
              "      <td>2.190</td>\n",
              "    </tr>\n",
              "    <tr>\n",
              "      <th>47</th>\n",
              "      <td>norte</td>\n",
              "      <td>110 m² construídos2 quartos</td>\n",
              "      <td>Rua Ida Da Silva, Vila Guilherme, São Paulo Zo...</td>\n",
              "      <td>2.600</td>\n",
              "    </tr>\n",
              "  </tbody>\n",
              "</table>\n",
              "<p>960 rows × 4 columns</p>\n",
              "</div>"
            ],
            "text/plain": [
              "    zonas  ... precos\n",
              "0     sul  ...    750\n",
              "1     sul  ...    750\n",
              "2     sul  ...  1.200\n",
              "3     sul  ...  1.500\n",
              "4     sul  ...  1.224\n",
              "..    ...  ...    ...\n",
              "43  norte  ...  1.150\n",
              "44  norte  ...  2.200\n",
              "45  norte  ...  1.360\n",
              "46  norte  ...  2.190\n",
              "47  norte  ...  2.600\n",
              "\n",
              "[960 rows x 4 columns]"
            ]
          },
          "metadata": {
            "tags": []
          },
          "execution_count": 26
        }
      ]
    },
    {
      "cell_type": "code",
      "metadata": {
        "id": "hJ5Ca54SKPoM"
      },
      "source": [
        ""
      ],
      "execution_count": null,
      "outputs": []
    }
  ]
}