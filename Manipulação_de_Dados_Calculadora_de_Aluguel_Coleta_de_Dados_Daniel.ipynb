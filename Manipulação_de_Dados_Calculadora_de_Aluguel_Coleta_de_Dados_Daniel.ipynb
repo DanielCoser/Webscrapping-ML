{
  "nbformat": 4,
  "nbformat_minor": 0,
  "metadata": {
    "colab": {
      "name": "Cópia de Calculadora de Aluguel - Coleta de Dados Daniel.ipynb",
      "provenance": [],
      "collapsed_sections": [],
      "authorship_tag": "ABX9TyPM9Awi9eoDaymLVT135kgs",
      "include_colab_link": true
    },
    "kernelspec": {
      "name": "python3",
      "display_name": "Python 3"
    }
  },
  "cells": [
    {
      "cell_type": "markdown",
      "metadata": {
        "id": "view-in-github",
        "colab_type": "text"
      },
      "source": [
        "<a href=\"https://colab.research.google.com/github/DanielCoser/Webscrapping-ML/blob/main/Manipula%C3%A7%C3%A3o_de_Dados_Calculadora_de_Aluguel_Coleta_de_Dados_Daniel.ipynb\" target=\"_parent\"><img src=\"https://colab.research.google.com/assets/colab-badge.svg\" alt=\"Open In Colab\"/></a>"
      ]
    },
    {
      "cell_type": "code",
      "metadata": {
        "id": "r2X8CXEfAhSM"
      },
      "source": [
        "import pandas as pd\r\n",
        "import requests\r\n",
        "import numpy as np\r\n",
        "from bs4 import BeautifulSoup\r\n",
        "from time import sleep\r\n",
        "\r\n",
        "zonas = ['sul', 'oeste', 'leste', 'norte']\r\n",
        "paginas = ['', '_Desde_49', '_Desde_97', '_Desde_145', '_Desde_193']\r\n",
        "url_ml = 'https://imoveis.mercadolivre.com.br/apartamentos/aluguel/sao-paulo/'\r\n",
        "\r\n",
        "def coletando_dados(url, zona):\r\n",
        "\r\n",
        "  resposta = requests.get(url).content\r\n",
        "  sopa = BeautifulSoup(resposta)\r\n",
        "\r\n",
        "  result_set_precos = sopa.find_all('span', {'class': 'price-tag-fraction'})\r\n",
        "  result_set_area_quartos = sopa.find_all('ul', class_='ui-search-card-attributes ui-search-item__group__element')\r\n",
        "  result_set_enderecos = sopa.find_all('span', class_='ui-search-item__group__element ui-search-item__location')\r\n",
        "\r\n",
        "  lista_precos = []\r\n",
        "  lista_area_quartos = []\r\n",
        "  lista_enderecos = []\r\n",
        "  lista_zonas = []\r\n",
        "\r\n",
        "  for preco, area_quarto, endereco in zip(result_set_precos, result_set_area_quartos, result_set_enderecos):\r\n",
        "    lista_precos.append(preco.text)\r\n",
        "    lista_area_quartos.append(area_quarto.text)\r\n",
        "    lista_enderecos.append(endereco.text)\r\n",
        "    lista_zonas.append(zona)\r\n",
        "    \r\n",
        "  dados = {'zonas': lista_zonas,\r\n",
        "           'areas_quartos': lista_area_quartos,\r\n",
        "           'enderecos': lista_enderecos,\r\n",
        "           'precos': lista_precos}\r\n",
        "\r\n",
        "  df = pd.DataFrame(dados)\r\n",
        "  return df"
      ],
      "execution_count": 147,
      "outputs": []
    },
    {
      "cell_type": "code",
      "metadata": {
        "colab": {
          "base_uri": "https://localhost:8080/"
        },
        "id": "URkWpIL_BViO",
        "outputId": "b91c8cae-65cc-44c3-aacc-dd699947d98a"
      },
      "source": [
        "lista_dados = []\r\n",
        "\r\n",
        "for zona in zonas:\r\n",
        "  for pagina in paginas:\r\n",
        "    url = f'https://imoveis.mercadolivre.com.br/apartamentos/aluguel/sao-paulo/sao-paulo-zona-{zona}/{pagina}'\r\n",
        "    print('Coletando dados de', url)\r\n",
        "    df = coletando_dados(url, zona)\r\n",
        "    lista_dados.append(df)\r\n",
        "    sleep(2) # lembrar de usar sleep para não sobrecarregar o site de acessos\r\n",
        "print('Dados coletados!')"
      ],
      "execution_count": 148,
      "outputs": [
        {
          "output_type": "stream",
          "text": [
            "Coletando dados de https://imoveis.mercadolivre.com.br/apartamentos/aluguel/sao-paulo/sao-paulo-zona-sul/\n",
            "Coletando dados de https://imoveis.mercadolivre.com.br/apartamentos/aluguel/sao-paulo/sao-paulo-zona-sul/_Desde_49\n",
            "Coletando dados de https://imoveis.mercadolivre.com.br/apartamentos/aluguel/sao-paulo/sao-paulo-zona-sul/_Desde_97\n",
            "Coletando dados de https://imoveis.mercadolivre.com.br/apartamentos/aluguel/sao-paulo/sao-paulo-zona-sul/_Desde_145\n",
            "Coletando dados de https://imoveis.mercadolivre.com.br/apartamentos/aluguel/sao-paulo/sao-paulo-zona-sul/_Desde_193\n",
            "Coletando dados de https://imoveis.mercadolivre.com.br/apartamentos/aluguel/sao-paulo/sao-paulo-zona-oeste/\n",
            "Coletando dados de https://imoveis.mercadolivre.com.br/apartamentos/aluguel/sao-paulo/sao-paulo-zona-oeste/_Desde_49\n",
            "Coletando dados de https://imoveis.mercadolivre.com.br/apartamentos/aluguel/sao-paulo/sao-paulo-zona-oeste/_Desde_97\n",
            "Coletando dados de https://imoveis.mercadolivre.com.br/apartamentos/aluguel/sao-paulo/sao-paulo-zona-oeste/_Desde_145\n",
            "Coletando dados de https://imoveis.mercadolivre.com.br/apartamentos/aluguel/sao-paulo/sao-paulo-zona-oeste/_Desde_193\n",
            "Coletando dados de https://imoveis.mercadolivre.com.br/apartamentos/aluguel/sao-paulo/sao-paulo-zona-leste/\n",
            "Coletando dados de https://imoveis.mercadolivre.com.br/apartamentos/aluguel/sao-paulo/sao-paulo-zona-leste/_Desde_49\n",
            "Coletando dados de https://imoveis.mercadolivre.com.br/apartamentos/aluguel/sao-paulo/sao-paulo-zona-leste/_Desde_97\n",
            "Coletando dados de https://imoveis.mercadolivre.com.br/apartamentos/aluguel/sao-paulo/sao-paulo-zona-leste/_Desde_145\n",
            "Coletando dados de https://imoveis.mercadolivre.com.br/apartamentos/aluguel/sao-paulo/sao-paulo-zona-leste/_Desde_193\n",
            "Coletando dados de https://imoveis.mercadolivre.com.br/apartamentos/aluguel/sao-paulo/sao-paulo-zona-norte/\n",
            "Coletando dados de https://imoveis.mercadolivre.com.br/apartamentos/aluguel/sao-paulo/sao-paulo-zona-norte/_Desde_49\n",
            "Coletando dados de https://imoveis.mercadolivre.com.br/apartamentos/aluguel/sao-paulo/sao-paulo-zona-norte/_Desde_97\n",
            "Coletando dados de https://imoveis.mercadolivre.com.br/apartamentos/aluguel/sao-paulo/sao-paulo-zona-norte/_Desde_145\n",
            "Coletando dados de https://imoveis.mercadolivre.com.br/apartamentos/aluguel/sao-paulo/sao-paulo-zona-norte/_Desde_193\n",
            "Dados coletados!\n"
          ],
          "name": "stdout"
        }
      ]
    },
    {
      "cell_type": "code",
      "metadata": {
        "id": "9aDEQ7RgJOhe"
      },
      "source": [
        "df_dados = pd.concat(lista_dados)\r\n",
        "df_dados\r\n",
        "df_dados['areas_quartos'] = df_dados['areas_quartos'].str.replace(',','.')"
      ],
      "execution_count": 149,
      "outputs": []
    },
    {
      "cell_type": "code",
      "metadata": {
        "id": "hJ5Ca54SKPoM"
      },
      "source": [
        "df_dados.to_csv('dados_mercado_livre.csv', index=False) # index=False para tirar o unnamed - coluna adicional de indices"
      ],
      "execution_count": 150,
      "outputs": []
    },
    {
      "cell_type": "code",
      "metadata": {
        "id": "o_nOPNZYWA63",
        "outputId": "8e64026f-c600-4408-c264-56bf37dbab1c",
        "colab": {
          "base_uri": "https://localhost:8080/",
          "height": 195
        }
      },
      "source": [
        "import re\r\n",
        "df_ml = pd.read_csv('dados_mercado_livre.csv', thousands='.')\r\n",
        "df_ml.head()"
      ],
      "execution_count": 151,
      "outputs": [
        {
          "output_type": "execute_result",
          "data": {
            "text/html": [
              "<div>\n",
              "<style scoped>\n",
              "    .dataframe tbody tr th:only-of-type {\n",
              "        vertical-align: middle;\n",
              "    }\n",
              "\n",
              "    .dataframe tbody tr th {\n",
              "        vertical-align: top;\n",
              "    }\n",
              "\n",
              "    .dataframe thead th {\n",
              "        text-align: right;\n",
              "    }\n",
              "</style>\n",
              "<table border=\"1\" class=\"dataframe\">\n",
              "  <thead>\n",
              "    <tr style=\"text-align: right;\">\n",
              "      <th></th>\n",
              "      <th>zonas</th>\n",
              "      <th>areas_quartos</th>\n",
              "      <th>enderecos</th>\n",
              "      <th>precos</th>\n",
              "    </tr>\n",
              "  </thead>\n",
              "  <tbody>\n",
              "    <tr>\n",
              "      <th>0</th>\n",
              "      <td>sul</td>\n",
              "      <td>45 m² construídos1 quarto</td>\n",
              "      <td>Rua Doutor Fadlo Haidar,\\n                75, ...</td>\n",
              "      <td>3200</td>\n",
              "    </tr>\n",
              "    <tr>\n",
              "      <th>1</th>\n",
              "      <td>sul</td>\n",
              "      <td>88 m² construídos3 quartos</td>\n",
              "      <td>R Apotribu, Parque Imperial, São Paulo Zona Su...</td>\n",
              "      <td>2800</td>\n",
              "    </tr>\n",
              "    <tr>\n",
              "      <th>2</th>\n",
              "      <td>sul</td>\n",
              "      <td>83 m² construídos3 quartos</td>\n",
              "      <td>Av Mascote, Vila Mascote, São Paulo Zona Sul, ...</td>\n",
              "      <td>3500</td>\n",
              "    </tr>\n",
              "    <tr>\n",
              "      <th>3</th>\n",
              "      <td>sul</td>\n",
              "      <td>51 m² construídos2 quartos</td>\n",
              "      <td>Rua Taquacetuba, Vila Parque Jabaquara, São Pa...</td>\n",
              "      <td>1200</td>\n",
              "    </tr>\n",
              "    <tr>\n",
              "      <th>4</th>\n",
              "      <td>sul</td>\n",
              "      <td>48 m² construídos1 quarto</td>\n",
              "      <td>Rua Charles Spencer Chaplin, Vila Andrade, São...</td>\n",
              "      <td>1906</td>\n",
              "    </tr>\n",
              "  </tbody>\n",
              "</table>\n",
              "</div>"
            ],
            "text/plain": [
              "  zonas  ... precos\n",
              "0   sul  ...   3200\n",
              "1   sul  ...   2800\n",
              "2   sul  ...   3500\n",
              "3   sul  ...   1200\n",
              "4   sul  ...   1906\n",
              "\n",
              "[5 rows x 4 columns]"
            ]
          },
          "metadata": {
            "tags": []
          },
          "execution_count": 151
        }
      ]
    },
    {
      "cell_type": "code",
      "metadata": {
        "id": "nrm7fLLpWLeR",
        "outputId": "69438424-b9f5-4f65-de73-d4b6c5dce46d",
        "colab": {
          "base_uri": "https://localhost:8080/"
        }
      },
      "source": [
        "df_ml.info()"
      ],
      "execution_count": 152,
      "outputs": [
        {
          "output_type": "stream",
          "text": [
            "<class 'pandas.core.frame.DataFrame'>\n",
            "RangeIndex: 960 entries, 0 to 959\n",
            "Data columns (total 4 columns):\n",
            " #   Column         Non-Null Count  Dtype \n",
            "---  ------         --------------  ----- \n",
            " 0   zonas          960 non-null    object\n",
            " 1   areas_quartos  960 non-null    object\n",
            " 2   enderecos      960 non-null    object\n",
            " 3   precos         960 non-null    int64 \n",
            "dtypes: int64(1), object(3)\n",
            "memory usage: 30.1+ KB\n"
          ],
          "name": "stdout"
        }
      ]
    },
    {
      "cell_type": "code",
      "metadata": {
        "id": "30puS_yUWRBt",
        "outputId": "d9350ead-7fb0-43fc-be67-ec73b27326b7",
        "colab": {
          "base_uri": "https://localhost:8080/",
          "height": 35
        }
      },
      "source": [
        "linha_0 = df_ml['areas_quartos'][0]\r\n",
        "df_ml['areas_quartos'][706]"
      ],
      "execution_count": 153,
      "outputs": [
        {
          "output_type": "execute_result",
          "data": {
            "application/vnd.google.colaboratory.intrinsic+json": {
              "type": "string"
            },
            "text/plain": [
              "'135.000 m² construídos3 quartos'"
            ]
          },
          "metadata": {
            "tags": []
          },
          "execution_count": 153
        }
      ]
    },
    {
      "cell_type": "code",
      "metadata": {
        "id": "F4EHEOgYWXHo"
      },
      "source": [
        "def extrair_area(entrada):\r\n",
        "  if 'm²' in entrada:\r\n",
        "    # uma solução é com o find que devolve o indíce e aí seleciona um pedaço\r\n",
        "    # outra solução é dividir o texto onde tem m²\r\n",
        "    area = entrada.split(' m²')[0]\r\n",
        "  else:\r\n",
        "    area = np.nan\r\n",
        "  return area"
      ],
      "execution_count": 154,
      "outputs": []
    },
    {
      "cell_type": "code",
      "metadata": {
        "id": "NEEavDPKWZJ6",
        "outputId": "f55603bb-df39-479c-87de-aa73ff45d9ba",
        "colab": {
          "base_uri": "https://localhost:8080/"
        }
      },
      "source": [
        "linha_0_va = '2 quartos'\r\n",
        "extrair_area(linha_0_va)"
      ],
      "execution_count": 155,
      "outputs": [
        {
          "output_type": "execute_result",
          "data": {
            "text/plain": [
              "nan"
            ]
          },
          "metadata": {
            "tags": []
          },
          "execution_count": 155
        }
      ]
    },
    {
      "cell_type": "code",
      "metadata": {
        "id": "i_Ud9WOkWfd-"
      },
      "source": [
        "df_ml['areas'] =  df_ml['areas_quartos'].apply(extrair_area).astype(float)\r\n",
        "df_ml['precos'] = df_ml['precos'].astype(float)"
      ],
      "execution_count": 156,
      "outputs": []
    },
    {
      "cell_type": "code",
      "metadata": {
        "id": "4To2pvuRXGIB",
        "outputId": "220886a2-679c-4816-f454-d380017fbce0",
        "colab": {
          "base_uri": "https://localhost:8080/"
        }
      },
      "source": [
        "df_ml.info()"
      ],
      "execution_count": 157,
      "outputs": [
        {
          "output_type": "stream",
          "text": [
            "<class 'pandas.core.frame.DataFrame'>\n",
            "RangeIndex: 960 entries, 0 to 959\n",
            "Data columns (total 5 columns):\n",
            " #   Column         Non-Null Count  Dtype  \n",
            "---  ------         --------------  -----  \n",
            " 0   zonas          960 non-null    object \n",
            " 1   areas_quartos  960 non-null    object \n",
            " 2   enderecos      960 non-null    object \n",
            " 3   precos         960 non-null    float64\n",
            " 4   areas          960 non-null    float64\n",
            "dtypes: float64(2), object(3)\n",
            "memory usage: 37.6+ KB\n"
          ],
          "name": "stdout"
        }
      ]
    },
    {
      "cell_type": "code",
      "metadata": {
        "id": "MmCxEbJNeU2z"
      },
      "source": [
        "texto = linha_0\r\n",
        "padrao = '(\\d+) quarto' # regex que significa um grupo de um ou mais dígitos\r\n",
        "padrao1 = '(\\d+)'"
      ],
      "execution_count": 158,
      "outputs": []
    },
    {
      "cell_type": "code",
      "metadata": {
        "id": "mWgShhsVeXJj",
        "outputId": "36c4f41d-4d78-4aab-b09a-8b2aed5fcd2d",
        "colab": {
          "base_uri": "https://localhost:8080/"
        }
      },
      "source": [
        "re.findall(padrao1, texto) # exemplo - aqui já podemos checar e dividir direto em areas e quartos"
      ],
      "execution_count": 159,
      "outputs": [
        {
          "output_type": "execute_result",
          "data": {
            "text/plain": [
              "['45', '1']"
            ]
          },
          "metadata": {
            "tags": []
          },
          "execution_count": 159
        }
      ]
    },
    {
      "cell_type": "code",
      "metadata": {
        "id": "X6JpdedXebKf"
      },
      "source": [
        "def extrair_quarto(entrada):\r\n",
        "\r\n",
        "  padrao = '(\\d+) quarto'\r\n",
        "  \r\n",
        "  if 'quarto' in entrada:\r\n",
        "    n_quartos = re.findall(padrao, entrada)[0]\r\n",
        "  else:\r\n",
        "    n_quartos = np.nan\r\n",
        "  \r\n",
        "  return n_quartos"
      ],
      "execution_count": 162,
      "outputs": []
    },
    {
      "cell_type": "code",
      "metadata": {
        "id": "oaLi0QcAen7a"
      },
      "source": [
        "df_ml['quartos'] = df_ml['areas_quartos'].apply(extrair_quarto).astype(float)"
      ],
      "execution_count": 164,
      "outputs": []
    },
    {
      "cell_type": "code",
      "metadata": {
        "id": "T2LA1d-4eqP2",
        "outputId": "5fdbe596-3408-48e1-eb6b-111587de0ab1",
        "colab": {
          "base_uri": "https://localhost:8080/",
          "height": 195
        }
      },
      "source": [
        "df_ml.head()"
      ],
      "execution_count": 165,
      "outputs": [
        {
          "output_type": "execute_result",
          "data": {
            "text/html": [
              "<div>\n",
              "<style scoped>\n",
              "    .dataframe tbody tr th:only-of-type {\n",
              "        vertical-align: middle;\n",
              "    }\n",
              "\n",
              "    .dataframe tbody tr th {\n",
              "        vertical-align: top;\n",
              "    }\n",
              "\n",
              "    .dataframe thead th {\n",
              "        text-align: right;\n",
              "    }\n",
              "</style>\n",
              "<table border=\"1\" class=\"dataframe\">\n",
              "  <thead>\n",
              "    <tr style=\"text-align: right;\">\n",
              "      <th></th>\n",
              "      <th>zonas</th>\n",
              "      <th>areas_quartos</th>\n",
              "      <th>enderecos</th>\n",
              "      <th>precos</th>\n",
              "      <th>areas</th>\n",
              "      <th>quartos</th>\n",
              "    </tr>\n",
              "  </thead>\n",
              "  <tbody>\n",
              "    <tr>\n",
              "      <th>0</th>\n",
              "      <td>sul</td>\n",
              "      <td>45 m² construídos1 quarto</td>\n",
              "      <td>Rua Doutor Fadlo Haidar,\\n                75, ...</td>\n",
              "      <td>3200.0</td>\n",
              "      <td>45.0</td>\n",
              "      <td>1.0</td>\n",
              "    </tr>\n",
              "    <tr>\n",
              "      <th>1</th>\n",
              "      <td>sul</td>\n",
              "      <td>88 m² construídos3 quartos</td>\n",
              "      <td>R Apotribu, Parque Imperial, São Paulo Zona Su...</td>\n",
              "      <td>2800.0</td>\n",
              "      <td>88.0</td>\n",
              "      <td>3.0</td>\n",
              "    </tr>\n",
              "    <tr>\n",
              "      <th>2</th>\n",
              "      <td>sul</td>\n",
              "      <td>83 m² construídos3 quartos</td>\n",
              "      <td>Av Mascote, Vila Mascote, São Paulo Zona Sul, ...</td>\n",
              "      <td>3500.0</td>\n",
              "      <td>83.0</td>\n",
              "      <td>3.0</td>\n",
              "    </tr>\n",
              "    <tr>\n",
              "      <th>3</th>\n",
              "      <td>sul</td>\n",
              "      <td>51 m² construídos2 quartos</td>\n",
              "      <td>Rua Taquacetuba, Vila Parque Jabaquara, São Pa...</td>\n",
              "      <td>1200.0</td>\n",
              "      <td>51.0</td>\n",
              "      <td>2.0</td>\n",
              "    </tr>\n",
              "    <tr>\n",
              "      <th>4</th>\n",
              "      <td>sul</td>\n",
              "      <td>48 m² construídos1 quarto</td>\n",
              "      <td>Rua Charles Spencer Chaplin, Vila Andrade, São...</td>\n",
              "      <td>1906.0</td>\n",
              "      <td>48.0</td>\n",
              "      <td>1.0</td>\n",
              "    </tr>\n",
              "  </tbody>\n",
              "</table>\n",
              "</div>"
            ],
            "text/plain": [
              "  zonas               areas_quartos  ... areas  quartos\n",
              "0   sul   45 m² construídos1 quarto  ...  45.0      1.0\n",
              "1   sul  88 m² construídos3 quartos  ...  88.0      3.0\n",
              "2   sul  83 m² construídos3 quartos  ...  83.0      3.0\n",
              "3   sul  51 m² construídos2 quartos  ...  51.0      2.0\n",
              "4   sul   48 m² construídos1 quarto  ...  48.0      1.0\n",
              "\n",
              "[5 rows x 6 columns]"
            ]
          },
          "metadata": {
            "tags": []
          },
          "execution_count": 165
        }
      ]
    },
    {
      "cell_type": "code",
      "metadata": {
        "id": "A1IjXVQ2ezvY"
      },
      "source": [
        "df_ml = df_ml.drop('areas_quartos', axis=1)"
      ],
      "execution_count": 166,
      "outputs": []
    },
    {
      "cell_type": "code",
      "metadata": {
        "id": "YASNqgTge2I7",
        "outputId": "cb4a38f5-466f-4248-f162-e4864080b89a",
        "colab": {
          "base_uri": "https://localhost:8080/",
          "height": 195
        }
      },
      "source": [
        "df_ml.head()"
      ],
      "execution_count": 167,
      "outputs": [
        {
          "output_type": "execute_result",
          "data": {
            "text/html": [
              "<div>\n",
              "<style scoped>\n",
              "    .dataframe tbody tr th:only-of-type {\n",
              "        vertical-align: middle;\n",
              "    }\n",
              "\n",
              "    .dataframe tbody tr th {\n",
              "        vertical-align: top;\n",
              "    }\n",
              "\n",
              "    .dataframe thead th {\n",
              "        text-align: right;\n",
              "    }\n",
              "</style>\n",
              "<table border=\"1\" class=\"dataframe\">\n",
              "  <thead>\n",
              "    <tr style=\"text-align: right;\">\n",
              "      <th></th>\n",
              "      <th>zonas</th>\n",
              "      <th>enderecos</th>\n",
              "      <th>precos</th>\n",
              "      <th>areas</th>\n",
              "      <th>quartos</th>\n",
              "    </tr>\n",
              "  </thead>\n",
              "  <tbody>\n",
              "    <tr>\n",
              "      <th>0</th>\n",
              "      <td>sul</td>\n",
              "      <td>Rua Doutor Fadlo Haidar,\\n                75, ...</td>\n",
              "      <td>3200.0</td>\n",
              "      <td>45.0</td>\n",
              "      <td>1.0</td>\n",
              "    </tr>\n",
              "    <tr>\n",
              "      <th>1</th>\n",
              "      <td>sul</td>\n",
              "      <td>R Apotribu, Parque Imperial, São Paulo Zona Su...</td>\n",
              "      <td>2800.0</td>\n",
              "      <td>88.0</td>\n",
              "      <td>3.0</td>\n",
              "    </tr>\n",
              "    <tr>\n",
              "      <th>2</th>\n",
              "      <td>sul</td>\n",
              "      <td>Av Mascote, Vila Mascote, São Paulo Zona Sul, ...</td>\n",
              "      <td>3500.0</td>\n",
              "      <td>83.0</td>\n",
              "      <td>3.0</td>\n",
              "    </tr>\n",
              "    <tr>\n",
              "      <th>3</th>\n",
              "      <td>sul</td>\n",
              "      <td>Rua Taquacetuba, Vila Parque Jabaquara, São Pa...</td>\n",
              "      <td>1200.0</td>\n",
              "      <td>51.0</td>\n",
              "      <td>2.0</td>\n",
              "    </tr>\n",
              "    <tr>\n",
              "      <th>4</th>\n",
              "      <td>sul</td>\n",
              "      <td>Rua Charles Spencer Chaplin, Vila Andrade, São...</td>\n",
              "      <td>1906.0</td>\n",
              "      <td>48.0</td>\n",
              "      <td>1.0</td>\n",
              "    </tr>\n",
              "  </tbody>\n",
              "</table>\n",
              "</div>"
            ],
            "text/plain": [
              "  zonas                                          enderecos  ...  areas  quartos\n",
              "0   sul  Rua Doutor Fadlo Haidar,\\n                75, ...  ...   45.0      1.0\n",
              "1   sul  R Apotribu, Parque Imperial, São Paulo Zona Su...  ...   88.0      3.0\n",
              "2   sul  Av Mascote, Vila Mascote, São Paulo Zona Sul, ...  ...   83.0      3.0\n",
              "3   sul  Rua Taquacetuba, Vila Parque Jabaquara, São Pa...  ...   51.0      2.0\n",
              "4   sul  Rua Charles Spencer Chaplin, Vila Andrade, São...  ...   48.0      1.0\n",
              "\n",
              "[5 rows x 5 columns]"
            ]
          },
          "metadata": {
            "tags": []
          },
          "execution_count": 167
        }
      ]
    },
    {
      "cell_type": "code",
      "metadata": {
        "id": "SEmZJj4le5Ew"
      },
      "source": [
        "df_ml.to_csv('dados_tratados_mercado_livre.csv', index=False)"
      ],
      "execution_count": 168,
      "outputs": []
    }
  ]
}